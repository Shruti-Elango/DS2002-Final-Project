{
 "cells": [
  {
   "cell_type": "code",
   "execution_count": null,
   "id": "89469f59-26de-4e19-92f8-9371b1b20241",
   "metadata": {},
   "outputs": [
    {
     "name": "stdout",
     "output_type": "stream",
     "text": [
      "Data retrieved and stored at 2023-11-16 16:43:21.529662\n",
      "Data retrieved and stored at 2023-11-16 16:44:21.815878\n",
      "Data retrieved and stored at 2023-11-16 16:45:22.137853\n",
      "Data retrieved and stored at 2023-11-16 16:46:22.505447\n",
      "Data retrieved and stored at 2023-11-16 16:47:22.930015\n",
      "Data retrieved and stored at 2023-11-16 16:48:23.296666\n",
      "Data retrieved and stored at 2023-11-16 16:49:23.741577\n",
      "Data retrieved and stored at 2023-11-16 16:50:24.126948\n",
      "Data retrieved and stored at 2023-11-16 16:51:24.544252\n",
      "Data retrieved and stored at 2023-11-16 16:52:25.053860\n"
     ]
    }
   ],
   "source": [
    "import requests\n",
    "import pymongo\n",
    "import time\n",
    "from datetime import datetime\n",
    "\n",
    "# Function to fetch data from the API\n",
    "def fetch_data():\n",
    "    api_url = 'https://4feaquhyai.execute-api.us-east-1.amazonaws.com/api/pi'\n",
    "    response = requests.get(api_url)\n",
    "    if response.status_code == 200:\n",
    "        return response.json()\n",
    "    else:\n",
    "        return None\n",
    "\n",
    "# Function to connect to MongoDB and insert data\n",
    "def insert_data_mongodb(data):\n",
    "    client = pymongo.MongoClient(\"mongodb://localhost:27017/\")  # Replace with your MongoDB connection string\n",
    "    db = client[\"data_db\"]\n",
    "    collection = db[\"api_data\"]\n",
    "    collection.insert_one(data)\n",
    "    client.close()\n",
    "\n",
    "# Execute data retrieval and storage for 60 minutes (1 hour)\n",
    "def execute_for_one_hour():\n",
    "    start_time = time.time()\n",
    "    end_time = start_time + 60 * 60  # 60 minutes\n",
    "    \n",
    "    while time.time() < end_time:\n",
    "        current_time = time.time()\n",
    "        if current_time - start_time >= 60:\n",
    "            data = fetch_data()\n",
    "            if data:\n",
    "                data['timestamp'] = datetime.now()\n",
    "                insert_data_mongodb(data)\n",
    "                print(f\"Data retrieved and stored at {datetime.now()}\")\n",
    "            else:\n",
    "                print(\"Failed to fetch data from the API.\")\n",
    "            \n",
    "            start_time = current_time\n",
    "        else:\n",
    "            time.sleep(1)\n",
    "\n",
    "if __name__ == \"__main__\":\n",
    "    execute_for_one_hour()\n"
   ]
  },
  {
   "cell_type": "code",
   "execution_count": null,
   "id": "7e28a16e-7540-4165-88b6-29c2246012ec",
   "metadata": {},
   "outputs": [],
   "source": [
    "import pymongo\n",
    "from pprint import pprint\n",
    "\n",
    "# Function to connect to MongoDB and retrieve data\n",
    "def retrieve_data():\n",
    "    client = pymongo.MongoClient(\"mongodb://localhost:27017/\")  # Replace with your MongoDB connection string\n",
    "    db = client[\"data_db\"]\n",
    "    collection = db[\"api_data\"]\n",
    "    data = list(collection.find({}))  # Retrieve all data\n",
    "    client.close()\n",
    "    return data\n",
    "\n",
    "# Retrieve data from MongoDB\n",
    "stored_data = retrieve_data()\n",
    "\n",
    "# Perform analysis on the retrieved data\n",
    "# Example: Print the first 5 records\n",
    "print(\"First 5 records:\")\n",
    "pprint(stored_data[:5])\n"
   ]
  },
  {
   "cell_type": "code",
   "execution_count": null,
   "id": "7f55b43d-b081-4ca6-90ff-dc016c027063",
   "metadata": {},
   "outputs": [],
   "source": []
  }
 ],
 "metadata": {
  "kernelspec": {
   "display_name": "Python 3 (ipykernel)",
   "language": "python",
   "name": "python3"
  },
  "language_info": {
   "codemirror_mode": {
    "name": "ipython",
    "version": 3
   },
   "file_extension": ".py",
   "mimetype": "text/x-python",
   "name": "python",
   "nbconvert_exporter": "python",
   "pygments_lexer": "ipython3",
   "version": "3.8.16"
  }
 },
 "nbformat": 4,
 "nbformat_minor": 5
}
